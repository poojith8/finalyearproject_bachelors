{
 "cells": [
  {
   "cell_type": "markdown",
   "metadata": {},
   "source": [
    "## Import Library"
   ]
  },
  {
   "cell_type": "code",
   "execution_count": 1,
   "metadata": {},
   "outputs": [],
   "source": [
    "import math\n",
    "import random as rd\n",
    "import numpy as np"
   ]
  },
  {
   "cell_type": "markdown",
   "metadata": {},
   "source": [
    "## Nilai Fitness"
   ]
  },
  {
   "cell_type": "code",
   "execution_count": 2,
   "metadata": {},
   "outputs": [],
   "source": [
    "def nilaiFitness(kombinasi):\n",
    "    fitness = 0\n",
    "    for i in range(1,len(kombinasi)):\n",
    "        fitness = fitness + math.sqrt((math.pow((node[kombinasi[i]][0] - node[kombinasi[i-1]][0]),2))+math.pow((node[kombinasi[i-1]][1] - node[kombinasi[i]][1]),2))\n",
    "    return -fitness        "
   ]
  },
  {
   "cell_type": "markdown",
   "metadata": {},
   "source": [
    "## Seleksi Parent"
   ]
  },
  {
   "cell_type": "code",
   "execution_count": 3,
   "metadata": {},
   "outputs": [],
   "source": [
    "def tournamentParent(populasi, panjangTournament):\n",
    "    idxSample = np.arange(len(populasi))\n",
    "    np.random.shuffle(idxSample)\n",
    "    idxSample = idxSample[0:panjangTournament]\n",
    "    fitnesses = [(nilaiFitness(pop[idxSample[i]])) for i in range(panjangTournament)]\n",
    "    mergedArray = [(idxSample[i], fitnesses[i]) for i in range(panjangTournament)]\n",
    "    mergedArray = sorted(mergedArray,key = lambda a : a[1], reverse = True)\n",
    "    return mergedArray[0][0], mergedArray[1][0]"
   ]
  },
  {
   "cell_type": "markdown",
   "metadata": {},
   "source": [
    "## Generate Kromosom"
   ]
  },
  {
   "cell_type": "code",
   "execution_count": 1,
   "metadata": {},
   "outputs": [
    {
     "ename": "NameError",
     "evalue": "name 'np' is not defined",
     "output_type": "error",
     "traceback": [
      "\u001b[1;31m---------------------------------------------------------------------------\u001b[0m",
      "\u001b[1;31mNameError\u001b[0m                                 Traceback (most recent call last)",
      "\u001b[1;32m<ipython-input-1-9587d93a8df3>\u001b[0m in \u001b[0;36m<module>\u001b[1;34m\u001b[0m\n\u001b[0;32m     10\u001b[0m         \u001b[0mpopulasi\u001b[0m\u001b[1;33m.\u001b[0m\u001b[0mappend\u001b[0m\u001b[1;33m(\u001b[0m\u001b[0mlist\u001b[0m\u001b[1;33m(\u001b[0m\u001b[0mkromosom\u001b[0m\u001b[1;33m)\u001b[0m\u001b[1;33m)\u001b[0m\u001b[1;33m\u001b[0m\u001b[1;33m\u001b[0m\u001b[0m\n\u001b[0;32m     11\u001b[0m     \u001b[1;32mreturn\u001b[0m \u001b[0mpopulasi\u001b[0m\u001b[1;33m\u001b[0m\u001b[1;33m\u001b[0m\u001b[0m\n\u001b[1;32m---> 12\u001b[1;33m \u001b[0mprint\u001b[0m\u001b[1;33m(\u001b[0m\u001b[0mnp\u001b[0m\u001b[1;33m.\u001b[0m\u001b[0mrandom\u001b[0m\u001b[1;33m.\u001b[0m\u001b[0mshuffle\u001b[0m\u001b[1;33m(\u001b[0m\u001b[0mkromosom\u001b[0m\u001b[1;33m)\u001b[0m\u001b[1;33m)\u001b[0m\u001b[1;33m\u001b[0m\u001b[1;33m\u001b[0m\u001b[0m\n\u001b[0m",
      "\u001b[1;31mNameError\u001b[0m: name 'np' is not defined"
     ]
    }
   ],
   "source": [
    "def generateKromosom(jumlahPopulasi, panjangKromosom):\n",
    "    populasi = []\n",
    "    tmpStartEndNode = np.array([0])\n",
    "    for i in range(jumlahPopulasi):\n",
    "        kromosom = []\n",
    "        kromosom = np.arange(1,panjangKromosom)\n",
    "        np.random.shuffle(kromosom)\n",
    "        kromosom = np.concatenate((tmpStartEndNode,kromosom), axis = 0)\n",
    "        kromosom = np.concatenate((kromosom,tmpStartEndNode), axis = 0)\n",
    "        populasi.append(list(kromosom))\n",
    "    return populasi"
   ]
  },
  {
   "cell_type": "markdown",
   "metadata": {},
   "source": [
    "## Crossover"
   ]
  },
  {
   "cell_type": "code",
   "execution_count": 5,
   "metadata": {},
   "outputs": [],
   "source": [
    "def crossover(kromosom1, kromosom2, pC):\n",
    "    prob = np.random.random()\n",
    "    point = np.random.randint(1,len(kromosom1)-1)\n",
    "    tmpKromosom1 = []\n",
    "    tmpKromosom2 = []\n",
    "    cekKromosom1 = []\n",
    "    cekKromosom2 = []\n",
    "    if(prob <= pC):\n",
    "        tmpKromosom1 = kromosom1[:point]\n",
    "        tmpKromosom2 = kromosom2[:point]\n",
    "        cekKromosom1 = kromosom1[point:]\n",
    "        cekKromosom2 = kromosom2[point:]\n",
    "        for i in range(point, len(kromosom2)):\n",
    "            if(kromosom2[i] in tmpKromosom1):\n",
    "                for j in range(len(kromosom1)):\n",
    "                    if((kromosom1[j] not in tmpKromosom1) and (kromosom1[j] not in cekKromosom2)):\n",
    "                        tmpKromosom1 = tmpKromosom1 + [kromosom1[j]]\n",
    "                        break\n",
    "                        \n",
    "            else:\n",
    "                tmpKromosom1 = tmpKromosom1 + [kromosom2[i]]\n",
    "        for i in range(point, len(kromosom1)):\n",
    "            if(kromosom1[i] in tmpKromosom2):\n",
    "                for j in range(len(kromosom2)):\n",
    "                    if((kromosom2[j] not in tmpKromosom2) and (kromosom2[j] not in cekKromosom1)):\n",
    "                        tmpKromosom2 = tmpKromosom2 + [kromosom2[j]]\n",
    "                        break\n",
    "            else:\n",
    "                tmpKromosom2 = tmpKromosom2 + [kromosom1[i]]\n",
    "        \n",
    "        tmpKromosom1 = tmpKromosom1 + kromosom1[len(kromosom1)-1:len(kromosom1)]\n",
    "        tmpKromosom2 = tmpKromosom2 + kromosom2[len(kromosom2)-1:len(kromosom2)]\n",
    "    else:\n",
    "        tmpKromosom1 = kromosom1\n",
    "        tmpKromosom2 = kromosom2\n",
    "    return tmpKromosom1, tmpKromosom2"
   ]
  },
  {
   "cell_type": "markdown",
   "metadata": {},
   "source": [
    "## Mutasi"
   ]
  },
  {
   "cell_type": "code",
   "execution_count": 6,
   "metadata": {},
   "outputs": [],
   "source": [
    "def mutasi(kromosom, pM):\n",
    "    for i in range(1,len(kromosom)-1):\n",
    "        tmp = 0\n",
    "        prob = np.random.random()\n",
    "        if(prob <= pM):\n",
    "            while(tmp == 0):\n",
    "                tmp = np.random.randint(1,len(kromosom)-2)\n",
    "            for j in range(1, len(kromosom)-1):\n",
    "                if(tmp == kromosom[j]):\n",
    "                    kromosom[j] = kromosom[i]\n",
    "                    kromosom[i] = tmp\n",
    "                    break\n",
    "    return kromosom"
   ]
  },
  {
   "cell_type": "markdown",
   "metadata": {},
   "source": [
    "## Pergantian Generasi (Steady State : Fitness-Based Selection)"
   ]
  },
  {
   "cell_type": "code",
   "execution_count": 7,
   "metadata": {},
   "outputs": [],
   "source": [
    "def steadyState(jumlahGeneration ,populasi, jumlahPopulasi, panjangTournament):\n",
    "    for j in range(jumlahGeneration):\n",
    "        gabungan = []\n",
    "        child = []\n",
    "        fitnesses = []\n",
    "#         print(populasi)\n",
    "        for i in range(round(len(populasi)/2)):\n",
    "            idxParent1, idxParent2 = tournamentParent(populasi, panjangTournament)\n",
    "            anak1 = populasi[idxParent1][:]\n",
    "            anak2 = populasi[idxParent2][:]\n",
    "            \n",
    "            #Crossover\n",
    "            anak1,anak2 = crossover(anak1,anak2,pC)\n",
    "            \n",
    "            #Mutasi\n",
    "            anak1 = mutasi(anak1,pM)\n",
    "            anak2 = mutasi(anak2,pM)\n",
    "            \n",
    "            child.append(anak1)\n",
    "            child.append(anak2)\n",
    "            \n",
    "        gabungan = populasi + child\n",
    "        for i in range(len(gabungan)):\n",
    "            fitnesses.append(nilaiFitness(gabungan[i]))\n",
    "        mergedArray = [(gabungan[i], fitnesses[i]) for i in range(len(gabungan))]\n",
    "        mergedArray = sorted(mergedArray, key = lambda a : a[1], reverse = True)\n",
    "        pop = []\n",
    "        tmp = []\n",
    "        t = 0\n",
    "        jumlah = 0\n",
    "        \n",
    "#         print(mergedArray)\n",
    "        for i in range(len(gabungan)):\n",
    "            if(i >= 1):\n",
    "                nilai = nilaiFitness(gabungan[i])\n",
    "                if(nilai == mergedArray[jumlah-1][1]):\n",
    "                    tmp.append(mergedArray[i][0])\n",
    "                    t += 1\n",
    "                else:\n",
    "                    pop.append(mergedArray[i][0])\n",
    "                    jumlah+=1\n",
    "            else:\n",
    "                pop.append(mergedArray[i][0])\n",
    "                jumlah+=1\n",
    "            if(jumlah == jumlahPopulasi):\n",
    "                break\n",
    "        \n",
    "        z = 0\n",
    "#         print(len(populasi))\n",
    "        while(jumlah < jumlahPopulasi):\n",
    "            pop.append(tmp[z])\n",
    "            z+=1\n",
    "            jumlah+=1\n",
    "        populasi = []\n",
    "        populasi = pop\n",
    "#         print(pop)\n",
    "#         print(len(pop))\n",
    "        \n",
    "#         nilai = -nilaiFitness(populasi[0])\n",
    "#         print()\n",
    "#         print(nilai)\n",
    "        \n",
    "    return populasi"
   ]
  },
  {
   "cell_type": "markdown",
   "metadata": {},
   "source": [
    "## Inisialisasi Variable"
   ]
  },
  {
   "cell_type": "code",
   "execution_count": 8,
   "metadata": {},
   "outputs": [],
   "source": [
    "node = [[82,76],\n",
    "        [96,44],\n",
    "        [50,5],\n",
    "        [49,8],\n",
    "        [13,7],\n",
    "        [29,89],\n",
    "        [58,30],\n",
    "        [84,39],\n",
    "        [14,24],\n",
    "        [2,39],\n",
    "        [3,82],\n",
    "        [5,10],\n",
    "        [98,52],\n",
    "        [84,25],\n",
    "        [61,59],\n",
    "        [1,65]]\n",
    "\n",
    "jumlahGenerasi = 500\n",
    "jumlahIndividu = 50\n",
    "panjangTournament = round(jumlahIndividu/2)\n",
    "pC = 0.7\n",
    "pM = 0.1"
   ]
  },
  {
   "cell_type": "markdown",
   "metadata": {},
   "source": [
    "## Main Program"
   ]
  },
  {
   "cell_type": "code",
   "execution_count": 9,
   "metadata": {},
   "outputs": [
    {
     "name": "stdout",
     "output_type": "stream",
     "text": [
      "Generasi ke- 500\n",
      "Rute terbaik : [0, 12, 1, 7, 13, 6, 3, 2, 4, 11, 8, 9, 15, 10, 5, 14, 0]\n",
      "Cost (jarak) : 339.8939674528264\n"
     ]
    }
   ],
   "source": [
    "pop = generateKromosom(jumlahIndividu,16)\n",
    "pop = list(pop)\n",
    "pop = steadyState(jumlahGenerasi, pop, jumlahIndividu, panjangTournament)\n",
    "print(\"Generasi ke- \"+str(jumlahGenerasi))\n",
    "print(\"Rute terbaik : \"+str(pop[0]))\n",
    "print(\"Cost (jarak) : \"+str(-nilaiFitness(pop[0])))"
   ]
  },
  {
   "cell_type": "code",
   "execution_count": null,
   "metadata": {},
   "outputs": [],
   "source": []
  }
 ],
 "metadata": {
  "kernelspec": {
   "display_name": "Python 3",
   "language": "python",
   "name": "python3"
  },
  "language_info": {
   "codemirror_mode": {
    "name": "ipython",
    "version": 3
   },
   "file_extension": ".py",
   "mimetype": "text/x-python",
   "name": "python",
   "nbconvert_exporter": "python",
   "pygments_lexer": "ipython3",
   "version": "3.7.4"
  }
 },
 "nbformat": 4,
 "nbformat_minor": 2
}
