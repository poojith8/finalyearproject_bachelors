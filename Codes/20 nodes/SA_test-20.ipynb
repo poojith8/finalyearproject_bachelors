{
 "cells": [
  {
   "cell_type": "code",
   "execution_count": 77,
   "metadata": {},
   "outputs": [],
   "source": [
    "import pandas as pd\n",
    "from matplotlib import pyplot as plt\n",
    "import numpy as np\n",
    "import random\n",
    "import math\n",
    "import time\n",
    "import matplotlib.pyplot as plt"
   ]
  },
  {
   "cell_type": "code",
   "execution_count": 78,
   "metadata": {},
   "outputs": [],
   "source": [
    "start_time=time.time()\n",
    "num_of_city = 20"
   ]
  },
  {
   "cell_type": "code",
   "execution_count": 79,
   "metadata": {},
   "outputs": [
    {
     "name": "stdout",
     "output_type": "stream",
     "text": [
      "[[  0  25  43  57  43  55  48  35  18  28  55  61  22  78  49  15  36  46\n",
      "   25  23]\n",
      " [ 25   0  29  34  43  68  49  66  72  91  65  44  25  85  95  75  36  44\n",
      "   12  28]\n",
      " [ 43  29   0  52  72  96  72  81  89 114  22  74  45  69  85  12   3  45\n",
      "   74  69]\n",
      " [ 57  34  52   0  45  71  71  95  99 108  14  36  96  45  78  21  23  45\n",
      "   65  78]\n",
      " [ 43  43  72  45   0  27  36  65  65  65  56  78  23  45  96  12  11  36\n",
      "   23  85]\n",
      " [ 55  68  96  71  27   0  40  66  62  46  88  98  71  23  45  65  22   1\n",
      "    9  77]\n",
      " [ 48  49  72  71  36  40   0  31  31  43  27  39  48  56  47  89  25  34\n",
      "   98  99]\n",
      " [ 35  66  81  95  65  66  31   0  11  46  88  22  99  33  66  55  44  11\n",
      "   22  44]\n",
      " [ 18  72  89  99  65  62  31  11   0  36  89  77  54  32  12  96  54  78\n",
      "   25  36]\n",
      " [ 28  91 114 108  65  46  43  46  36   0  77  65  45  28  19   7  34  16\n",
      "    1  89]\n",
      " [ 55  65  22  14  56  88  27  88  89  77   0   4  88  32  45  67  82  19\n",
      "   44  16]\n",
      " [ 61  44  74  36  78  98  39  22  77  65   4   0   4   7   3  19  59  82\n",
      "   76  74]\n",
      " [ 22  25  45  96  23  71  48  99  54  45  88   4   0  57  39  74  14  13\n",
      "   28  78]\n",
      " [ 78  85  69  45  45  23  56  33  32  28  32   7  57   0   7   2  19  17\n",
      "   38  45]\n",
      " [ 49  95  85  78  96  45  47  66  12  19  45   3  39   7   0  45  82  34\n",
      "   56  81]\n",
      " [ 15  75  12  21  12  65  89  55  96   7  67  19  74   2  45   0  47  81\n",
      "   98  23]\n",
      " [ 36  36   3  23  11  22  25  44  54  34  82  59  14  19  82  47   0  76\n",
      "   29  15]\n",
      " [ 46  44  45  45  36   1  34  11  78  16  19  82  13  17  34  81  76   0\n",
      "   55  73]\n",
      " [ 25  12  74  65  23   9  98  22  25   1  44  76  28  38  56  98  29  55\n",
      "    0  99]\n",
      " [ 23  28  69  78  85  77  99  44  36  89  16  74  78  45  81  23  15  73\n",
      "   99   0]]\n"
     ]
    }
   ],
   "source": [
    "# using the GIVEN DISTANCE\n",
    "cities_Location= pd.read_csv(\"D:\\\\table27.csv\")\n",
    "cities_Location = np.array(cities_Location)  # generate the initial cities locations\n",
    "print(cities_Location)  # print out the distance matrix"
   ]
  },
  {
   "cell_type": "code",
   "execution_count": 80,
   "metadata": {},
   "outputs": [],
   "source": [
    "# For the Simulated Annealing part\n",
    "\n",
    "def initial_sol():  # generate a random initial solution\n",
    "    movement_candi = [2, 3, 4, 5, 6, 7, 8,9,10,11,12,13,14,15,16,17,18,19,20]  # made a list prepare to random choice\n",
    "    random_list = random.sample(movement_candi, 19)  # made these city sequence random\n",
    "    random_list.insert(0,1)  # add the first city\n",
    "    random_list.insert(num_of_city, 1)  # add the final trip to go back to city 01\n",
    "    return random_list\n"
   ]
  },
  {
   "cell_type": "code",
   "execution_count": 81,
   "metadata": {},
   "outputs": [],
   "source": [
    "# Mechanism Permutation Neighborhood by Inversion / Transposition / Displacement\n",
    "def select_neighborhood(the_path):\n",
    "    k = random.random()  # generate a number to choice what mechanism of select neighborhood this time\n",
    "    if k > 0.66:  # one-third opportunity to do Inversion\n",
    "        rand_Loc = random.randint(2, 19)  # choice a location\n",
    "        temp_num = the_path[rand_Loc]  # chosen location's value\n",
    "        the_path[rand_Loc] = the_path[rand_Loc - 1]  # transfer the value to previous one\n",
    "        the_path[rand_Loc - 1] = temp_num  # also give the value to exchange one\n",
    "    elif 0.66 > k > 0.33:  # one-third opportunity to do Transposition\n",
    "        rand_Loc01, rand_Loc02 = random.randint(1, 19), random.randint(1, 19)  # choice 2 locations\n",
    "        if rand_Loc01 != rand_Loc02:  # if that 2 location different\n",
    "            temp_num = the_path[rand_Loc01]\n",
    "            the_path[rand_Loc01] = the_path[rand_Loc02]  # make them change each other\n",
    "            the_path[rand_Loc02] = temp_num\n",
    "        else:  # if the first outcome are the same\n",
    "            temp_list = [2, 3, 4, 5, 6, 7,8,9,10,11,12,13,14,15,16,17,18,19]  # once they are the same number\n",
    "            temp_list.pop(rand_Loc02 - 2)  # re-choice a location again\n",
    "            rand_Loc01 = random.choice(temp_list)\n",
    "            temp_num = the_path[rand_Loc01]\n",
    "            the_path[rand_Loc01] = the_path[rand_Loc02]  # make them change each other\n",
    "            the_path[rand_Loc02] = temp_num\n",
    "    else:  # one-third opportunity to do Displacement\n",
    "        rand_Loc01, rand_Loc02 = random.randint(1, 19), random.randint(1, 19)  # chose two location\n",
    "        temp_num = the_path[rand_Loc01]\n",
    "        the_path.pop(rand_Loc01)  # make the chosen one insert into another location\n",
    "        the_path.insert(rand_Loc02, temp_num)\n",
    "    return the_path  # return a new path"
   ]
  },
  {
   "cell_type": "code",
   "execution_count": 82,
   "metadata": {},
   "outputs": [],
   "source": [
    "def find_distance(someone_path):  # this function make the path could got its distance\n",
    "    distance = 0\n",
    "    for city in range(0, num_of_city):  # city by city to find out its distance\n",
    "        distance += cities_Location[someone_path[city] - 1][someone_path[city + 1] - 1]\n",
    "    return distance"
   ]
  },
  {
   "cell_type": "code",
   "execution_count": 83,
   "metadata": {},
   "outputs": [],
   "source": [
    "def delta(compute_distance_maybe_update, compute_distance_current):  # compute the delta value for two distance\n",
    "    the_delta = compute_distance_maybe_update - compute_distance_current\n",
    "    return the_delta"
   ]
  },
  {
   "cell_type": "code",
   "execution_count": 84,
   "metadata": {},
   "outputs": [],
   "source": [
    "def accept_worse_moves(compute_delta_value, compute_temperature_current, compute_path_maybe_update,\n",
    "                       compute_distance_maybe_update, compute_curr_path, compute_curr_dis):\n",
    "    r = random.random()  # if it is a worse move, also make a chance let it accepted\n",
    "    move_prob = math.exp(- compute_delta_value / compute_temperature_current)  # move prob formula\n",
    "    if r > move_prob:  # accepted this worse move\n",
    "        compute_path_current = compute_path_maybe_update\n",
    "        compute_distance_current = compute_distance_maybe_update\n",
    "    else:  # do not accepted this worse\n",
    "        compute_path_current = compute_curr_path\n",
    "        compute_distance_current = compute_curr_dis\n",
    "    return compute_path_current, compute_distance_current\n"
   ]
  },
  {
   "cell_type": "code",
   "execution_count": 85,
   "metadata": {
    "scrolled": true
   },
   "outputs": [
    {
     "name": "stdout",
     "output_type": "stream",
     "text": [
      "Currently total iterations:  2839\n",
      "-----------------------------------------------------------\n",
      "Shortest distance(y):  500\n"
     ]
    }
   ],
   "source": [
    "# Parameter Setting\n",
    "initTemp = 500  # set the starting temperature as 500\n",
    "finalTemp = 1  # set the final temperature as 1\n",
    "rate_of_cooling = 0.001  # the rate of cooling\n",
    "a_of_LinearlyIncreasing = 2\n",
    "b_of_LinearlyIncreasing = 15\n",
    "b_of_Reheating = 0.2\n",
    "r_of_Reheating = 0.1\n",
    "\n",
    "initPath = initial_sol()  # realize the initial Path\n",
    "initDis = find_distance(initPath)\n",
    "# print('Initial Path is: ', path_current, \" , and their distance is: \", distance_current)\n",
    "total_Iteration = 0  # set the initial iteration\n",
    "shortestDis = 500\n",
    "shortestPath = [1, 2, 3, 4, 5, 6, 7, 8,9,10,11,12,13,14,15,16,17,18,19,20,1]\n",
    "currPath = initPath\n",
    "currDis = initDis\n",
    "currTemp, candidateTemp = initTemp, initTemp\n",
    "shortest_DisList = []\n",
    "# structure\n",
    "while currTemp > finalTemp:\n",
    "    # Number of Iterations using the Linearly increasing\n",
    "    limitIterations_inTemp = a_of_LinearlyIncreasing * (currTemp - candidateTemp) + b_of_LinearlyIncreasing\n",
    "    limitIterations_inTemp = int(limitIterations_inTemp)\n",
    "    iterations = 0\n",
    "    currTemp = candidateTemp\n",
    "    while iterations < limitIterations_inTemp:\n",
    "        candidatePath = select_neighborhood(currPath)\n",
    "        candidateDis = find_distance(candidatePath)\n",
    "        delta_value = delta(candidateDis, currDis)\n",
    "        if delta_value < 0:\n",
    "            if currDis < shortestDis:  # to record for the  __ history\n",
    "                shortestDis = currDis\n",
    "                shortestPath = currPath\n",
    "                print('the current shortest path: ', shortestPath, 'the current shortest distance: ',\n",
    "                      shortestDis, ' and this is ', total_Iteration, ' iterations')\n",
    "            else:\n",
    "                currDis, currPath = currDis, currPath\n",
    "            currPath = candidatePath\n",
    "            currDis = candidateDis\n",
    "            # cooling schedule using the model by Lundy and Mees(1986)\n",
    "            candidateTemp = currTemp / (1 + (rate_of_cooling * currTemp))\n",
    "            # Reheating when move is accepted\n",
    "            candidateTemp = candidateTemp / (1 + b_of_Reheating)\n",
    "\n",
    "\n",
    "        # this part write the condition of  \"may accept worse moves\"\n",
    "        else:\n",
    "            if currDis < shortestDis:  # to record for the  __ history\n",
    "                shortestDis = currDis\n",
    "                shortestPath = currPath\n",
    "                print('the current shortest path: ', shortestPath, 'the current shortest distance: ',\n",
    "                      shortestDis, ' and this is ', total_Iteration, ' iterations')\n",
    "\n",
    "            else:\n",
    "                currDis, currPath = currDis, currPath\n",
    "\n",
    "            currPath, currDis = accept_worse_moves(delta_value, currTemp, candidatePath,\n",
    "                                                   candidateDis, currPath, currDis)\n",
    "            # cooling schedule using the model by Lundy and Mees(1986)\n",
    "            candidateTemp = currTemp / (1 + (rate_of_cooling * currTemp))\n",
    "            # Reheating when move is rejected\n",
    "            candidateTemp = candidateTemp / (1 - r_of_Reheating)\n",
    "\n",
    "        iterations += 1\n",
    "        total_Iteration += 1\n",
    "        shortest_DisList.append(shortestDis)\n",
    "\n",
    "        #print('current path: ', currPath, ', and their distance: ', currDis)\n",
    "\n",
    "print('Currently total iterations: ', total_Iteration)\n",
    "print('-----------------------------------------------------------')\n",
    "\n",
    "print(\"Shortest distance(y): \", shortestDis)"
   ]
  },
  {
   "cell_type": "code",
   "execution_count": 86,
   "metadata": {},
   "outputs": [
    {
     "name": "stdout",
     "output_type": "stream",
     "text": [
      "Shortest distance(y):  500\n",
      "Optima PATH: [1, 2, 3, 4, 5, 6, 7, 8, 9, 10, 11, 12, 13, 14, 15, 16, 17, 18, 19, 20, 1]\n"
     ]
    },
    {
     "data": {
      "image/png": "[encoded data removed]",
      "text/plain": [
       "<Figure size 432x288 with 1 Axes>"
      ]
     },
     "metadata": {},
     "output_type": "display_data"
    },
    {
     "name": "stdout",
     "output_type": "stream",
     "text": [
      "Total time is: 2.2793285846710205 s\n"
     ]
    }
   ],
   "source": [
    "print(\"Shortest distance(y): \", shortestDis)\n",
    "print(\"Optima PATH:\", shortestPath)\n",
    "shortest_distance = pd.DataFrame(shortest_DisList)\n",
    "plt.style.use('ggplot')\n",
    "plt.plot(range(total_Iteration), shortest_distance, 'r')\n",
    "plt.xlabel(\"Iterations\")\n",
    "plt.ylabel(\"Current Shortest Distance\")\n",
    "plt.title(\"Simulated Annealing for 10-nodes TSP \")\n",
    "# plt.figure()\n",
    "plt.show()\n",
    "exec_time=time.time()-start_time\n",
    "print(\"Total time is:\",exec_time,'s')"
   ]
  },
  {
   "cell_type": "code",
   "execution_count": 87,
   "metadata": {},
   "outputs": [
    {
     "data": {
      "image/png": "[encoded data removed]",
      "text/plain": [
       "<Figure size 432x288 with 1 Axes>"
      ]
     },
     "metadata": {},
     "output_type": "display_data"
    }
   ],
   "source": [
    "plt.plot(shortestPath)\n",
    "plt.grid()\n",
    "plt.show()"
   ]
  },
  {
   "cell_type": "code",
   "execution_count": null,
   "metadata": {},
   "outputs": [],
   "source": []
  },
  {
   "cell_type": "code",
   "execution_count": null,
   "metadata": {},
   "outputs": [],
   "source": []
  },
  {
   "cell_type": "code",
   "execution_count": null,
   "metadata": {},
   "outputs": [],
   "source": []
  }
 ],
 "metadata": {
  "kernelspec": {
   "display_name": "Python 3",
   "language": "python",
   "name": "python3"
  },
  "language_info": {
   "codemirror_mode": {
    "name": "ipython",
    "version": 3
   },
   "file_extension": ".py",
   "mimetype": "text/x-python",
   "name": "python",
   "nbconvert_exporter": "python",
   "pygments_lexer": "ipython3",
   "version": "3.7.6"
  }
 },
 "nbformat": 4,
 "nbformat_minor": 4
}
