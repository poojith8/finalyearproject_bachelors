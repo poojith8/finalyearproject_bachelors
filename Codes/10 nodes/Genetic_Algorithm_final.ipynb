{
 "cells": [
  {
   "cell_type": "code",
   "execution_count": 1,
   "metadata": {},
   "outputs": [],
   "source": [
    "import numpy as np, random, operator\n",
    "import pandas as pd\n",
    "import matplotlib.pyplot as plt\n",
    "import time"
   ]
  },
  {
   "cell_type": "code",
   "execution_count": 2,
   "metadata": {},
   "outputs": [],
   "source": [
    "start_time=time.time()\n",
    "def create_starting_population(size,Number_of_city):\n",
    "    '''Method create starting population \n",
    "    size= No. of the city\n",
    "    Number_of_city= Total No. of the city\n",
    "    '''\n",
    "    population = []\n",
    "    \n",
    "    for i in range(0,size):\n",
    "        population.append(create_new_member(Number_of_city))\n",
    "        \n",
    "    return population"
   ]
  },
  {
   "cell_type": "code",
   "execution_count": 3,
   "metadata": {},
   "outputs": [],
   "source": [
    "def pick_mate(N):\n",
    "    '''mates are randomaly picked \n",
    "    N= no. of city '''\n",
    "    i=random.randint(0,N)    \n",
    "    return i"
   ]
  },
  {
   "cell_type": "code",
   "execution_count": 4,
   "metadata": {},
   "outputs": [],
   "source": [
    "def distance(i,j):\n",
    "    '''\n",
    "    Method calculate distance between two cities if coordinates are passed\n",
    "    i=(x,y) coordinates of first city\n",
    "    j=(x,y) coordinates of second city\n",
    "    '''\n",
    "    #returning distance of city i and j \n",
    "    return np.sqrt((i[0]-j[0])**2 + (i[1]-j[1])**2)\n",
    "    "
   ]
  },
  {
   "cell_type": "code",
   "execution_count": 5,
   "metadata": {},
   "outputs": [],
   "source": [
    "def score_population(population, CityList):  \n",
    "    '''\n",
    "    Score of the whole population is calculated here\n",
    "    population= 2 dimensional array conating all the routes\n",
    "    Citylist= List of the city \n",
    "    '''\n",
    "    scores = []\n",
    "  \n",
    "    for i in population:\n",
    "        #print(i)\n",
    "        scores.append(fitness(i, CityList))\n",
    "        #print([fitness(i, the_map)])\n",
    "    return scores"
   ]
  },
  {
   "cell_type": "code",
   "execution_count": 6,
   "metadata": {},
   "outputs": [],
   "source": [
    "def fitness(route,CityList):\n",
    "    '''Individual fitness of the routes is calculated here\n",
    "    route= 1d array\n",
    "    CityList = List of the cities\n",
    "    '''\n",
    "    #Calculate the fitness and return it.\n",
    "    score=0\n",
    "    #N_=len(route)\n",
    "    for i in range(1,len(route)):\n",
    "        k=int(route[i-1])\n",
    "        l=int(route[i])\n",
    "\n",
    "        score = score + distance(CityList[k],CityList[l])\n",
    "        \n",
    "        \n",
    "    return score"
   ]
  },
  {
   "cell_type": "code",
   "execution_count": 7,
   "metadata": {},
   "outputs": [],
   "source": [
    "def create_new_member(Number_of_city):\n",
    "    '''\n",
    "    creating new member of the population\n",
    "    '''\n",
    "    pop=set(np.arange(Number_of_city,dtype=int))\n",
    "    route=list(random.sample(pop,Number_of_city))\n",
    "            \n",
    "    return route"
   ]
  },
  {
   "cell_type": "code",
   "execution_count": 8,
   "metadata": {},
   "outputs": [],
   "source": [
    "def crossover(a,b):\n",
    "    '''\n",
    "    cross over \n",
    "    a=route1\n",
    "    b=route2\n",
    "    return child\n",
    "    '''\n",
    "    child=[]\n",
    "    childA=[]\n",
    "    childB=[]\n",
    "    \n",
    "    \n",
    "    geneA=int(random.random()* len(a))\n",
    "    geneB=int(random.random()* len(a))\n",
    "    \n",
    "    start_gene=min(geneA,geneB)\n",
    "    end_gene=max(geneA,geneB)\n",
    "    \n",
    "    for i in range(start_gene,end_gene):\n",
    "        childA.append(a[i])\n",
    "        \n",
    "    childB=[item for item in a if item not in childA]\n",
    "    child=childA+childB\n",
    "    \n",
    "    \n",
    "    \n",
    "       \n",
    "    return child\n"
   ]
  },
  {
   "cell_type": "code",
   "execution_count": 9,
   "metadata": {},
   "outputs": [],
   "source": [
    "def mutate(route,probablity):\n",
    "    '''\n",
    "    mutation \n",
    "    route= 1d array\n",
    "    probablity= mutation probablity\n",
    "    '''\n",
    "    #for mutating shuffling of the nodes is used\n",
    "    route=np.array(route)\n",
    "    for swaping_p in range(len(route)):\n",
    "        if(random.random() < probablity):\n",
    "            swapedWith = np.random.randint(0,len(route))\n",
    "            \n",
    "            temp1=route[swaping_p]\n",
    "            \n",
    "            temp2=route[swapedWith]\n",
    "            route[swapedWith]=temp1\n",
    "            route[swaping_p]=temp2\n",
    "    \n",
    "    return route\n",
    "    \n",
    "    \n",
    "    "
   ]
  },
  {
   "cell_type": "code",
   "execution_count": 10,
   "metadata": {},
   "outputs": [],
   "source": [
    "def selection(popRanked, eliteSize):\n",
    "    selectionResults=[]\n",
    "    result=[]\n",
    "    for i in popRanked:\n",
    "        result.append(i[0])\n",
    "    for i in range(0,eliteSize):\n",
    "        selectionResults.append(result[i])\n",
    "    \n",
    "    return selectionResults"
   ]
  },
  {
   "cell_type": "code",
   "execution_count": 11,
   "metadata": {},
   "outputs": [],
   "source": [
    "def rankRoutes(population,City_List):\n",
    "    fitnessResults = {}\n",
    "    for i in range(0,len(population)):\n",
    "        fitnessResults[i] = fitness(population[i],City_List)\n",
    "    return sorted(fitnessResults.items(), key = operator.itemgetter(1), reverse = False)"
   ]
  },
  {
   "cell_type": "code",
   "execution_count": 12,
   "metadata": {},
   "outputs": [],
   "source": [
    "def breedPopulation(mating_pool):\n",
    "    children=[]\n",
    "    for i in range(len(mating_pool)-1):\n",
    "            children.append(crossover(mating_pool[i],mating_pool[i+1]))\n",
    "    return children"
   ]
  },
  {
   "cell_type": "code",
   "execution_count": 13,
   "metadata": {},
   "outputs": [],
   "source": [
    "def mutatePopulation(children,mutation_rate):\n",
    "    new_generation=[]\n",
    "    for i in children:\n",
    "        muated_child=mutate(i,mutation_rate)\n",
    "        new_generation.append(muated_child)\n",
    "    return new_generation"
   ]
  },
  {
   "cell_type": "code",
   "execution_count": 14,
   "metadata": {},
   "outputs": [],
   "source": [
    "def matingPool(population, selectionResults):\n",
    "    matingpool = []\n",
    "    for i in range(0, len(selectionResults)):\n",
    "        index = selectionResults[i]\n",
    "        matingpool.append(population[index])\n",
    "    return matingpool"
   ]
  },
  {
   "cell_type": "code",
   "execution_count": 15,
   "metadata": {},
   "outputs": [],
   "source": [
    "def next_generation(City_List,current_population,mutation_rate,elite_size):\n",
    "    population_rank=rankRoutes(current_population,City_List)\n",
    "    \n",
    "    #print(f\"population rank : {population_rank}\")\n",
    "    \n",
    "    selection_result=selection(population_rank,elite_size)\n",
    "    #print(f\"selection results {selection_result}\")\n",
    "    \n",
    "    mating_pool=matingPool(current_population,selection_result)\n",
    "    #print(f\"mating pool {mating_pool}\")\n",
    "    \n",
    "    children=breedPopulation(mating_pool)\n",
    "    #print(f\"childern {children}\")\n",
    "    \n",
    "    next_generation=mutatePopulation(children,mutation_rate)\n",
    "    #print(f\"next_generation {next_generation}\")\n",
    "    return next_generation"
   ]
  },
  {
   "cell_type": "code",
   "execution_count": 16,
   "metadata": {},
   "outputs": [],
   "source": [
    "def genetic_algorithm(City_List,size_population=1000,elite_size=75,mutation_Rate=0.01,generation=2000):\n",
    "    '''size_population = 1000(default) Size of population\n",
    "        elite_size = 75 (default) No. of best route to choose\n",
    "        mutation_Rate = 0.05 (default) probablity of Mutation rate [0,1]\n",
    "        generation = 2000 (default) No. of generation  \n",
    "    '''\n",
    "    pop=[]\n",
    "    progress = []\n",
    "    \n",
    "    Number_of_cities=len(City_List)\n",
    "    \n",
    "    population=create_starting_population(size_population,Number_of_cities)\n",
    "    progress.append(rankRoutes(population,City_List)[0][1])\n",
    "    print(f\"initial route distance {progress[0]}\")\n",
    "    print(f\"initial route {population[0]}\")\n",
    "    for i in range(0,generation):\n",
    "        pop = next_generation(City_List,population,mutation_Rate,elite_size)\n",
    "        progress.append(rankRoutes(pop,City_List)[0][1])\n",
    "    \n",
    "    \n",
    "    rank_=rankRoutes(pop,City_List)[0]\n",
    "    \n",
    "    print(f\"Best Route :{pop[rank_[0]]} \")\n",
    "    print(f\"best route distance {rank_[1]}\")\n",
    "    plt.plot(progress)\n",
    "    plt.ylabel('Distance')\n",
    "    plt.xlabel('Generation')\n",
    "    plt.show()\n",
    "    \n",
    "    return rank_, pop\n",
    "    \n",
    "        "
   ]
  },
  {
   "cell_type": "code",
   "execution_count": 17,
   "metadata": {
    "scrolled": false
   },
   "outputs": [
    {
     "name": "stdout",
     "output_type": "stream",
     "text": [
      "[[  0  25  43  57  43  55  48  35  18  28]\n",
      " [ 25   0  29  34  43  68  49  66  72  91]\n",
      " [ 43  29   0  52  72  96  72  81  89 114]\n",
      " [ 57  34  52   0  45  71  71  95  99 108]\n",
      " [ 43  43  72  45   0  27  36  65  65  65]\n",
      " [ 55  68  96  71  27   0  40  66  62  46]\n",
      " [ 48  49  72  71  36  40   0  31  31  43]\n",
      " [ 35  66  81  95  65  66  31   0  11  46]\n",
      " [ 18  72  89  99  65  62  31  11   0  36]\n",
      " [ 28  91 114 108  65  46  43  46  36   0]]\n"
     ]
    }
   ],
   "source": [
    "cityList = []\n",
    "\n",
    "\n",
    "cityList= pd.read_csv(\"D:\\\\Project Data\\\\table69.csv\")\n",
    "cityList = np.array(cityList)\n",
    "print(cityList)\n"
   ]
  },
  {
   "cell_type": "code",
   "execution_count": 18,
   "metadata": {},
   "outputs": [
    {
     "name": "stdout",
     "output_type": "stream",
     "text": [
      "initial route distance 244.46575032159126\n",
      "initial route [6, 4, 0, 1, 9, 7, 5, 3, 2, 8]\n",
      "Best Route :[1 0 2 4 8 9 7 6 5 3] \n",
      "best route distance 253.96994880813935\n"
     ]
    },
    {
     "data": {
      "image/png": "[encoded data removed]",
      "text/plain": [
       "<Figure size 432x288 with 1 Axes>"
      ]
     },
     "metadata": {
      "needs_background": "light"
     },
     "output_type": "display_data"
    },
    {
     "name": "stdout",
     "output_type": "stream",
     "text": [
      "Total execution time is: 3.87826849354638\n"
     ]
    }
   ],
   "source": [
    "rank_,pop=genetic_algorithm(City_List=cityList)\n",
    "#plt.plot(pop[rank_[0]])\n",
    "#plt.grid()\n",
    "#plt.show()\n",
    "exec_time=time.time()-start_time\n",
    "print(\"Total execution time is:\",exec_time/18)"
   ]
  },
  {
   "cell_type": "code",
   "execution_count": null,
   "metadata": {},
   "outputs": [],
   "source": []
  },
  {
   "cell_type": "code",
   "execution_count": null,
   "metadata": {},
   "outputs": [],
   "source": []
  }
 ],
 "metadata": {
  "kernelspec": {
   "display_name": "Python 3",
   "language": "python",
   "name": "python3"
  },
  "language_info": {
   "codemirror_mode": {
    "name": "ipython",
    "version": 3
   },
   "file_extension": ".py",
   "mimetype": "text/x-python",
   "name": "python",
   "nbconvert_exporter": "python",
   "pygments_lexer": "ipython3",
   "version": "3.7.6"
  }
 },
 "nbformat": 4,
 "nbformat_minor": 2
}
